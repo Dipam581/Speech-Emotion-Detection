{
 "cells": [
  {
   "cell_type": "code",
   "execution_count": 141,
   "id": "5af51a8f-edc3-4ad0-a527-4e52b05af821",
   "metadata": {},
   "outputs": [],
   "source": [
    "# pip install librosa"
   ]
  },
  {
   "cell_type": "code",
   "execution_count": 142,
   "id": "a22751ab-a5ae-4e53-8634-6ab9e6ef5556",
   "metadata": {
    "scrolled": true
   },
   "outputs": [
    {
     "name": "stdout",
     "output_type": "stream",
     "text": [
      "Warning: Looks like you're using an outdated `kagglehub` version (installed: 0.3.7), please consider upgrading to the latest version (0.3.8).\n",
      "Path to dataset files: C:\\Users\\Dipam1\\.cache\\kagglehub\\datasets\\dmitrybabko\\speech-emotion-recognition-en\\versions\\1\n"
     ]
    }
   ],
   "source": [
    "import kagglehub\n",
    "import os\n",
    "# Download latest version\n",
    "path_of_dir = kagglehub.dataset_download(\"dmitrybabko/speech-emotion-recognition-en\")\n",
    "\n",
    "print(\"Path to dataset files:\", path_of_dir)"
   ]
  },
  {
   "cell_type": "code",
   "execution_count": 143,
   "id": "b629724b-de5d-4e80-b480-323591686016",
   "metadata": {},
   "outputs": [],
   "source": [
    "Ravdess_path = path_of_dir + \"/Ravdess/audio_speech_actors_01-24/\"\n",
    "Tess_path = path_of_dir + \"/Tess/\"\n",
    "\n",
    "Ravdess_dir_list = os.listdir(Ravdess_path)\n",
    "Tess_dir_list = os.listdir(Tess_path)"
   ]
  },
  {
   "cell_type": "code",
   "execution_count": null,
   "id": "ed08a523-0b42-4642-94eb-bcd2a0030bcc",
   "metadata": {},
   "outputs": [],
   "source": []
  },
  {
   "cell_type": "code",
   "execution_count": 144,
   "id": "f90459ce-319f-4f33-9c33-ebbc948b61f2",
   "metadata": {},
   "outputs": [],
   "source": [
    "# Audio(filename=Tess_path + it + '/' + file, autoplay= True)"
   ]
  },
  {
   "cell_type": "code",
   "execution_count": 145,
   "id": "206fb62c-7047-4bb5-8944-de8b0e2c0fbc",
   "metadata": {},
   "outputs": [],
   "source": [
    "import pandas as pd\n",
    "import numpy as np\n",
    "import matplotlib.pyplot as plt\n",
    "import seaborn as sns\n",
    "import os\n",
    "from IPython.display import Audio\n",
    "import librosa"
   ]
  },
  {
   "cell_type": "code",
   "execution_count": 146,
   "id": "f32f4dae-a1b1-4e61-994f-dfca45e710c2",
   "metadata": {},
   "outputs": [],
   "source": [
    "map_dir = {\n",
    "    \"SAD\": \"sad\",\n",
    "    \"ANG\": \"angry\",\n",
    "    \"DIS\": \"disgust\",\n",
    "    \"FEA\": \"fear\",\n",
    "    \"HAP\": \"happy\",\n",
    "    \"NEU\": \"neutral\"\n",
    "}"
   ]
  },
  {
   "cell_type": "code",
   "execution_count": 147,
   "id": "25d67a73-0e50-487f-bd2f-f5e9d6a872b6",
   "metadata": {},
   "outputs": [],
   "source": [
    "label = []\n",
    "path = []\n",
    "\n",
    "for dirpath, dirnames, filenames  in os.walk('SEM/Crema/'):\n",
    "    for i in range(len(filenames)):\n",
    "        file_path = os.path.join(dirpath,filenames[i])\n",
    "        path.append(file_path)\n",
    "        lab = file_path.split(\"_\")[2]\n",
    "        label.append(map_dir.get(lab))"
   ]
  },
  {
   "cell_type": "code",
   "execution_count": 148,
   "id": "5c4cb7b7-7605-4dca-9deb-70ecb4d19f7a",
   "metadata": {},
   "outputs": [],
   "source": [
    "# Audio(filename=f, autoplay= True)"
   ]
  },
  {
   "cell_type": "code",
   "execution_count": 149,
   "id": "c019539e-effb-4372-aff2-666ca2286c84",
   "metadata": {},
   "outputs": [
    {
     "name": "stdout",
     "output_type": "stream",
     "text": [
      "4120  &  4120\n"
     ]
    }
   ],
   "source": [
    "print(len(path), \" & \", len(label))"
   ]
  },
  {
   "cell_type": "code",
   "execution_count": 150,
   "id": "8e97305e-edf9-427f-ac37-b769014a723a",
   "metadata": {},
   "outputs": [],
   "source": [
    "map_dir_savee = {\n",
    "    'a': 'angry',\n",
    "    'd': 'disgust',\n",
    "    'f': 'fear',\n",
    "    'h': 'happy',\n",
    "    'n': 'neutral',\n",
    "    'sa': 'sad',\n",
    "    'su': 'surprise'\n",
    "}"
   ]
  },
  {
   "cell_type": "code",
   "execution_count": 151,
   "id": "6bcaff40-3059-4b22-877a-1ec348044403",
   "metadata": {},
   "outputs": [],
   "source": [
    "for dirpath, dirnames, filenames  in os.walk('SEM/Savee/'):\n",
    "    for i in range(len(filenames)):\n",
    "        file_path = os.path.join(dirpath,filenames[i])\n",
    "        path.append(file_path)\n",
    "        # lab = file_path.split(\"_\")[1]\n",
    "        # label.append(map_dir_savee.get(lab.split(\".\")[0][:1]))\n",
    "\n",
    "        part = file_path.split('_')[1]\n",
    "        part = part[:-6]\n",
    "        if part == 'a':\n",
    "            label.append('angry')\n",
    "        elif part == 'd':\n",
    "            label.append('disgust')\n",
    "        elif part == 'f':\n",
    "            label.append('fear')\n",
    "        elif part == 'h':\n",
    "            label.append('happy')\n",
    "        elif part == 'n':\n",
    "            label.append('neutral')\n",
    "        elif part == 'sa':\n",
    "            label.append('sad')\n",
    "        elif part == 'su':\n",
    "            label.append('surprise')\n",
    "        else:\n",
    "            label.append('Unknown')"
   ]
  },
  {
   "cell_type": "code",
   "execution_count": 152,
   "id": "76010772-16cc-4bf6-900e-7fe4d234dce9",
   "metadata": {},
   "outputs": [],
   "source": [
    "# Audio(filename=file_path, autoplay= True)"
   ]
  },
  {
   "cell_type": "code",
   "execution_count": 153,
   "id": "45ef8afb-7cbf-455e-8e9d-a759f4389c5c",
   "metadata": {},
   "outputs": [
    {
     "name": "stdout",
     "output_type": "stream",
     "text": [
      "4600  &  4600\n"
     ]
    }
   ],
   "source": [
    "print(len(path), \" & \", len(label))"
   ]
  },
  {
   "cell_type": "code",
   "execution_count": 154,
   "id": "3f92102c-f171-4b76-8ce1-668cf4c052f9",
   "metadata": {},
   "outputs": [],
   "source": [
    "for it in Tess_dir_list:\n",
    "    directories = os.listdir(Tess_path + '/' + it)\n",
    "    for file in directories:\n",
    "        part_emotion = file.split('.')[0]\n",
    "        part_emotion = part_emotion.split('_')[2]\n",
    "        \n",
    "        if part_emotion=='ps':\n",
    "            label.append('surprise')\n",
    "        else:\n",
    "            label.append(part_emotion)\n",
    "        path.append(Tess_path + it + '/' + file)"
   ]
  },
  {
   "cell_type": "code",
   "execution_count": 155,
   "id": "812f28a2-1ccd-4896-a47f-4a237d12ae5e",
   "metadata": {},
   "outputs": [
    {
     "name": "stdout",
     "output_type": "stream",
     "text": [
      "7400  &  7400\n"
     ]
    }
   ],
   "source": [
    "print(len(path), \" & \", len(label))"
   ]
  },
  {
   "cell_type": "code",
   "execution_count": 156,
   "id": "2bb36b37-d1e3-4c06-9f14-f2ce6a62678d",
   "metadata": {},
   "outputs": [],
   "source": [
    "ravness_emotion = {\n",
    "    \"1\": \"neutral\", \n",
    "    \"2\": \"calm\", \n",
    "    \"3\": \"happy\", \n",
    "    \"4\": \"sad\", \n",
    "    \"5\": \"angry\", \n",
    "    \"6\": \"fearful\", \n",
    "    \"7\": \"disgust\", \n",
    "    \"8\": \"surprised\"\n",
    "}"
   ]
  },
  {
   "cell_type": "code",
   "execution_count": 157,
   "id": "5dbb767a-52e8-4dee-b860-6d1ccf880930",
   "metadata": {},
   "outputs": [],
   "source": [
    "for it in Ravdess_dir_list:\n",
    "    # There are 20 actors  \n",
    "    actor = os.listdir(Ravdess_path + it)\n",
    "    for file in actor:\n",
    "        part = file.split('.')[0]\n",
    "        part = part.split('-')\n",
    "        label.append(ravness_emotion.get(int(part[2])))\n",
    "        path.append(Ravdess_path + it + '/' + file)"
   ]
  },
  {
   "cell_type": "code",
   "execution_count": 158,
   "id": "cd751091-9e84-4e34-95ce-9bd814c04731",
   "metadata": {},
   "outputs": [
    {
     "name": "stdout",
     "output_type": "stream",
     "text": [
      "8840  &  8840\n"
     ]
    }
   ],
   "source": [
    "print(len(path), \" & \", len(label))"
   ]
  },
  {
   "cell_type": "code",
   "execution_count": null,
   "id": "4bf77e12-d8db-435b-ad3c-8b374fbcbf3b",
   "metadata": {},
   "outputs": [],
   "source": []
  },
  {
   "cell_type": "code",
   "execution_count": 159,
   "id": "65f69ccd-bd24-4c5b-bc08-67cd423dcfcf",
   "metadata": {},
   "outputs": [
    {
     "data": {
      "text/plain": [
       "['SEM/Crema/1001_DFA_ANG_XX.wav',\n",
       " 'SEM/Crema/1001_IEO_ANG_HI.wav',\n",
       " 'SEM/Crema/1001_IEO_HAP_LO.wav',\n",
       " 'SEM/Crema/1001_IOM_DIS_XX.wav',\n",
       " 'SEM/Crema/1001_ITS_DIS_XX.wav']"
      ]
     },
     "execution_count": 159,
     "metadata": {},
     "output_type": "execute_result"
    }
   ],
   "source": [
    "path[:5]"
   ]
  },
  {
   "cell_type": "code",
   "execution_count": 160,
   "id": "5f7279d2-f3b0-44d0-b760-73c30c024f04",
   "metadata": {},
   "outputs": [
    {
     "data": {
      "text/plain": [
       "['angry', 'angry', 'happy', 'disgust', 'disgust']"
      ]
     },
     "execution_count": 160,
     "metadata": {},
     "output_type": "execute_result"
    }
   ],
   "source": [
    "label[:5]"
   ]
  },
  {
   "cell_type": "code",
   "execution_count": 161,
   "id": "7e69dd58-54f2-4445-b15e-f4ad3eec6bce",
   "metadata": {},
   "outputs": [
    {
     "data": {
      "text/plain": [
       "'SEM/Crema/1001_DFA_ANG_XX.wav'"
      ]
     },
     "execution_count": 161,
     "metadata": {},
     "output_type": "execute_result"
    }
   ],
   "source": [
    "path[0]"
   ]
  },
  {
   "cell_type": "code",
   "execution_count": 162,
   "id": "f1abd643-8839-4bdd-bca6-5bb17b78af88",
   "metadata": {},
   "outputs": [],
   "source": [
    "def convert_into_vector(sound):\n",
    "    y, sr = librosa.load(sound, sr=16000)\n",
    "    mel_spec = librosa.feature.melspectrogram(y=y, sr=sr, n_mels=128)\n",
    "    mel_spec_db = librosa.power_to_db(mel_spec, ref=np.max)\n",
    "    \n",
    "    # plt.figure(figsize=(10, 4))\n",
    "    # librosa.display.specshow(mel_spec_db, sr=sr, x_axis=\"time\", y_axis=\"mel\")\n",
    "    # plt.colorbar()\n",
    "    # plt.show()\n",
    "    return mel_spec_db"
   ]
  },
  {
   "cell_type": "code",
   "execution_count": 163,
   "id": "f5f64adc-3671-4aff-a754-7e84608cc3f5",
   "metadata": {},
   "outputs": [],
   "source": [
    "# convert_into_vector(\"SEM/Crema/1001_IEO_HAP_LO.wav\")"
   ]
  },
  {
   "cell_type": "code",
   "execution_count": 164,
   "id": "73e352e8-cceb-425e-b94a-82048ad0f808",
   "metadata": {},
   "outputs": [],
   "source": [
    "from sklearn.preprocessing import MinMaxScaler\n",
    "mms = MinMaxScaler()\n",
    "# mms.fit_transform(mfccs)\n",
    "# mfccs"
   ]
  },
  {
   "cell_type": "code",
   "execution_count": 165,
   "id": "9f6524c9-18fa-41de-8685-9ebc48acdedb",
   "metadata": {},
   "outputs": [],
   "source": [
    "df = pd.DataFrame()"
   ]
  },
  {
   "cell_type": "code",
   "execution_count": 166,
   "id": "1f9f8bdb-2d85-4a88-bb78-e99ce2cf2dfb",
   "metadata": {},
   "outputs": [],
   "source": [
    "df[\"speech\"] = path\n",
    "df[\"label\"] = label"
   ]
  },
  {
   "cell_type": "code",
   "execution_count": 168,
   "id": "06760ce9-7295-4553-a579-b03358aade52",
   "metadata": {},
   "outputs": [
    {
     "data": {
      "text/html": [
       "<div>\n",
       "<style scoped>\n",
       "    .dataframe tbody tr th:only-of-type {\n",
       "        vertical-align: middle;\n",
       "    }\n",
       "\n",
       "    .dataframe tbody tr th {\n",
       "        vertical-align: top;\n",
       "    }\n",
       "\n",
       "    .dataframe thead th {\n",
       "        text-align: right;\n",
       "    }\n",
       "</style>\n",
       "<table border=\"1\" class=\"dataframe\">\n",
       "  <thead>\n",
       "    <tr style=\"text-align: right;\">\n",
       "      <th></th>\n",
       "      <th>speech</th>\n",
       "      <th>label</th>\n",
       "    </tr>\n",
       "  </thead>\n",
       "  <tbody>\n",
       "    <tr>\n",
       "      <th>0</th>\n",
       "      <td>SEM/Crema/1001_DFA_ANG_XX.wav</td>\n",
       "      <td>angry</td>\n",
       "    </tr>\n",
       "    <tr>\n",
       "      <th>1</th>\n",
       "      <td>SEM/Crema/1001_IEO_ANG_HI.wav</td>\n",
       "      <td>angry</td>\n",
       "    </tr>\n",
       "    <tr>\n",
       "      <th>2</th>\n",
       "      <td>SEM/Crema/1001_IEO_HAP_LO.wav</td>\n",
       "      <td>happy</td>\n",
       "    </tr>\n",
       "    <tr>\n",
       "      <th>3</th>\n",
       "      <td>SEM/Crema/1001_IOM_DIS_XX.wav</td>\n",
       "      <td>disgust</td>\n",
       "    </tr>\n",
       "    <tr>\n",
       "      <th>4</th>\n",
       "      <td>SEM/Crema/1001_ITS_DIS_XX.wav</td>\n",
       "      <td>disgust</td>\n",
       "    </tr>\n",
       "  </tbody>\n",
       "</table>\n",
       "</div>"
      ],
      "text/plain": [
       "                          speech    label\n",
       "0  SEM/Crema/1001_DFA_ANG_XX.wav    angry\n",
       "1  SEM/Crema/1001_IEO_ANG_HI.wav    angry\n",
       "2  SEM/Crema/1001_IEO_HAP_LO.wav    happy\n",
       "3  SEM/Crema/1001_IOM_DIS_XX.wav  disgust\n",
       "4  SEM/Crema/1001_ITS_DIS_XX.wav  disgust"
      ]
     },
     "execution_count": 168,
     "metadata": {},
     "output_type": "execute_result"
    }
   ],
   "source": [
    "df.head()"
   ]
  },
  {
   "cell_type": "code",
   "execution_count": null,
   "id": "1d2e89db-0426-4095-9ffc-941578190609",
   "metadata": {},
   "outputs": [],
   "source": [
    "df.shape"
   ]
  },
  {
   "cell_type": "code",
   "execution_count": null,
   "id": "5c38551b-caca-4541-a1cb-521dcb0a6f9a",
   "metadata": {},
   "outputs": [],
   "source": [
    "df[\"label\"].value_counts()"
   ]
  },
  {
   "cell_type": "code",
   "execution_count": 169,
   "id": "8e74e102-9f47-4e4c-8d8e-bc3015f5736e",
   "metadata": {
    "scrolled": true
   },
   "outputs": [
    {
     "data": {
      "text/plain": [
       "<Axes: xlabel='label'>"
      ]
     },
     "execution_count": 169,
     "metadata": {},
     "output_type": "execute_result"
    },
    {
     "data": {
      "image/png": "[encoded data removed]",
      "text/plain": [
       "<Figure size 640x480 with 1 Axes>"
      ]
     },
     "metadata": {},
     "output_type": "display_data"
    }
   ],
   "source": [
    "df['label'].value_counts().plot(kind='bar')"
   ]
  },
  {
   "cell_type": "code",
   "execution_count": null,
   "id": "8745f6b4-a71b-47b3-8ec7-06a45341318e",
   "metadata": {},
   "outputs": [],
   "source": []
  },
  {
   "cell_type": "code",
   "execution_count": null,
   "id": "fb4423fc-7b9c-4fcd-8b6c-65cd8d325cad",
   "metadata": {},
   "outputs": [],
   "source": []
  },
  {
   "cell_type": "code",
   "execution_count": null,
   "id": "503243a9-8c49-4662-86cb-34a4be0cc9d6",
   "metadata": {},
   "outputs": [],
   "source": []
  },
  {
   "cell_type": "code",
   "execution_count": 170,
   "id": "08913dfa-40a7-4b7d-a9cf-1c8f21133abf",
   "metadata": {},
   "outputs": [],
   "source": [
    "def add_noise(data,random=False,rate=0.035,threshold=0.075):\n",
    "    if random:\n",
    "        rate=np.random.random()*threshold\n",
    "    noise=rate*np.random.uniform()*np.amax(data)\n",
    "    augmented_data=data+noise*np.random.normal(size=data.shape[0])\n",
    "    return augmented_data\n",
    "\n",
    "def shifting(data,rate=1000):\n",
    "    augmented_data=int(np.random.uniform(low=-5,high=5)*rate)\n",
    "    augmented_data=np.roll(data,augmented_data)\n",
    "    return augmented_data\n",
    "\n",
    "def pitching(data,sr,pitch_factor=0.7,random=False):\n",
    "    if random:\n",
    "        pitch_factor=np.random.random() * pitch_factor\n",
    "    return librosa.effects.pitch_shift(y= data,sr= sr,n_steps= pitch_factor)\n",
    "\n",
    "def streching(data,rate=0.8):\n",
    "    return librosa.effects.time_stretch(y =data,rate= rate)"
   ]
  },
  {
   "cell_type": "code",
   "execution_count": 171,
   "id": "a60f4e2f-6946-4eb7-9dd8-691c930d5f5b",
   "metadata": {},
   "outputs": [],
   "source": [
    "def zcr(data,frame_length,hop_length):\n",
    "    zcr=librosa.feature.zero_crossing_rate(data,frame_length=frame_length,hop_length=hop_length)\n",
    "    return np.squeeze(zcr)\n",
    "def rmse(data,frame_length=2048,hop_length=512):\n",
    "    rmse=librosa.feature.rms(y=data,frame_length=frame_length,hop_length=hop_length)\n",
    "    return np.squeeze(rmse)\n",
    "def mfcc(data,sr,frame_length=2048,hop_length=512,flatten:bool=True):\n",
    "    mfcc=librosa.feature.mfcc(y=data,sr=sr)\n",
    "    return np.squeeze(mfcc.T)if not flatten else np.ravel(mfcc.T)\n",
    "\n",
    "def extract_features(data,sr,frame_length=2048,hop_length=512):\n",
    "    result=np.array([])\n",
    "    \n",
    "    result=np.hstack((result,\n",
    "                      zcr(data,frame_length,hop_length),\n",
    "                      rmse(data,frame_length,hop_length),\n",
    "                      mfcc(data,sr,frame_length,hop_length)\n",
    "                     ))\n",
    "    return result\n",
    "\n",
    "def get_features(path,duration=2.5, offset=0.6):\n",
    "    data,sr=librosa.load(path,duration=duration,offset=offset)\n",
    "    aud=extract_features(data,sr)\n",
    "    audio=np.array(aud)\n",
    "    \n",
    "    noised_audio=add_noise(data,random=True)\n",
    "    aud2=extract_features(noised_audio,sr)\n",
    "    audio=np.vstack((audio,aud2))\n",
    "    \n",
    "    pitched_audio=pitching(data,sr,random=True)\n",
    "    aud3=extract_features(pitched_audio,sr)\n",
    "    audio=np.vstack((audio,aud3))\n",
    "    \n",
    "    pitched_audio1=pitching(data,sr,random=True)\n",
    "    pitched_noised_audio=add_noise(pitched_audio1,random=True)\n",
    "    aud4=extract_features(pitched_noised_audio,sr)\n",
    "    audio=np.vstack((audio,aud4))\n",
    "    \n",
    "    return audio"
   ]
  },
  {
   "cell_type": "code",
   "execution_count": 172,
   "id": "2ec9a914-949e-4f80-ac06-e8dda5ea36ce",
   "metadata": {
    "scrolled": true
   },
   "outputs": [],
   "source": [
    "df[\"label_encoder\"] = df[\"speech\"].apply(get_features)"
   ]
  },
  {
   "cell_type": "code",
   "execution_count": 173,
   "id": "e5317d93-8c20-42d0-8f17-4df5240545e2",
   "metadata": {},
   "outputs": [],
   "source": [
    "from sklearn.preprocessing import StandardScaler\n",
    "sc= StandardScaler()"
   ]
  },
  {
   "cell_type": "code",
   "execution_count": 174,
   "id": "4b23aa7c-417b-4d5d-895b-41463bdcfab5",
   "metadata": {},
   "outputs": [
    {
     "name": "stdout",
     "output_type": "stream",
     "text": [
      "(5920, 128, 128, 1) -- (1480, 128, 128, 1)\n"
     ]
    }
   ],
   "source": [
    "print(X_train.shape, \"--\", X_test.shape)"
   ]
  },
  {
   "cell_type": "code",
   "execution_count": null,
   "id": "aeead65d-4273-4df2-9281-e3136cfd2099",
   "metadata": {
    "scrolled": true
   },
   "outputs": [],
   "source": [
    "X_train_reshaped = sc.fit_transform(X_train)\n",
    "X_test_reshaped = sc.transform(X_test)"
   ]
  },
  {
   "cell_type": "code",
   "execution_count": null,
   "id": "9e583abc-5bc6-4b99-b4ed-94be2f874cd5",
   "metadata": {},
   "outputs": [],
   "source": []
  },
  {
   "cell_type": "code",
   "execution_count": null,
   "id": "c0dabdf7-c7af-4fa5-abec-66db6aeb3119",
   "metadata": {},
   "outputs": [],
   "source": []
  },
  {
   "cell_type": "code",
   "execution_count": null,
   "id": "90c77d77-d310-45bf-a653-517e4df1acd9",
   "metadata": {},
   "outputs": [],
   "source": []
  },
  {
   "cell_type": "code",
   "execution_count": null,
   "id": "55c469fa-885a-45e7-bfd7-bee55c58e595",
   "metadata": {},
   "outputs": [],
   "source": []
  },
  {
   "cell_type": "code",
   "execution_count": null,
   "id": "51c891f3-e67d-4680-8cf1-06258b631949",
   "metadata": {},
   "outputs": [],
   "source": [
    "df[\"label_encoder\"] = df[\"speech\"].apply(convert_into_vector)"
   ]
  },
  {
   "cell_type": "code",
   "execution_count": null,
   "id": "f446eeab-c421-42f7-ab41-cf591db696be",
   "metadata": {},
   "outputs": [],
   "source": [
    "df.tail(10)\n",
    "df[\"speech\"].to_csv(\"Saved_Audio.csv\")"
   ]
  },
  {
   "cell_type": "code",
   "execution_count": null,
   "id": "84d34c5a-0c57-4d80-b763-783b6058196b",
   "metadata": {},
   "outputs": [],
   "source": [
    "# from sklearn.preprocessing import LabelEncoder\n",
    "# le = LabelEncoder()\n",
    "\n",
    "# df[\"label\"] = le.fit_transform(df[\"label\"])"
   ]
  },
  {
   "cell_type": "code",
   "execution_count": null,
   "id": "5a88682c-a9e4-42c9-856c-f3ed998508f8",
   "metadata": {},
   "outputs": [],
   "source": [
    "df[\"label_encoder\"][0]"
   ]
  },
  {
   "cell_type": "code",
   "execution_count": null,
   "id": "cce9f3da-bb51-41ab-939b-20a375772034",
   "metadata": {},
   "outputs": [],
   "source": [
    "df.head(5)"
   ]
  },
  {
   "cell_type": "code",
   "execution_count": null,
   "id": "0ea0c133-4fa8-42ae-b666-ac96bd994ee4",
   "metadata": {},
   "outputs": [],
   "source": [
    "df.dropna(subset=[\"label\"], inplace=True)"
   ]
  },
  {
   "cell_type": "code",
   "execution_count": null,
   "id": "a7a7b955-056a-4269-b1aa-6d822ff0fab7",
   "metadata": {},
   "outputs": [],
   "source": [
    "df[\"label\"].isnull().sum()"
   ]
  },
  {
   "cell_type": "code",
   "execution_count": null,
   "id": "5ce7d4f0-dada-45d4-b79a-7ce8b97c7796",
   "metadata": {},
   "outputs": [],
   "source": [
    "shapes = df[\"label_encoder\"].apply(lambda x: x.shape)\n",
    "print(shapes.unique())"
   ]
  },
  {
   "cell_type": "code",
   "execution_count": null,
   "id": "0131e22d-e37e-4a3b-a452-c8701209e71c",
   "metadata": {},
   "outputs": [],
   "source": [
    "!pip install opencv-python\n",
    "import cv2\n",
    "\n",
    "def resize_array(arr, target_shape=(128, 128)):\n",
    "    # If arr is grayscale (2D), resize and then add channel dimension\n",
    "    resized = cv2.resize(arr, target_shape)\n",
    "    # If you need a channel dimension, expand dims:\n",
    "    if len(resized.shape) == 2:\n",
    "        resized = np.expand_dims(resized, axis=-1)\n",
    "    return resized\n",
    "\n",
    "df[\"label_encoder\"] = df[\"label_encoder\"].apply(lambda x: resize_array(x, target_shape=(128, 128)))\n"
   ]
  },
  {
   "cell_type": "code",
   "execution_count": 177,
   "id": "0ce8bd4b-51ae-47be-a675-81f5a521b36f",
   "metadata": {},
   "outputs": [
    {
     "data": {
      "text/plain": [
       "(8840,)"
      ]
     },
     "execution_count": 177,
     "metadata": {},
     "output_type": "execute_result"
    }
   ],
   "source": [
    "df[\"label_encoder\"].shape"
   ]
  },
  {
   "cell_type": "code",
   "execution_count": 176,
   "id": "d38ff6f3-f971-4910-be65-13362c173458",
   "metadata": {},
   "outputs": [
    {
     "ename": "ValueError",
     "evalue": "all input arrays must have the same shape",
     "output_type": "error",
     "traceback": [
      "\u001b[1;31m---------------------------------------------------------------------------\u001b[0m",
      "\u001b[1;31mValueError\u001b[0m                                Traceback (most recent call last)",
      "Cell \u001b[1;32mIn[176], line 1\u001b[0m\n\u001b[1;32m----> 1\u001b[0m X \u001b[38;5;241m=\u001b[39m np\u001b[38;5;241m.\u001b[39mstack(df[\u001b[38;5;124m\"\u001b[39m\u001b[38;5;124mlabel_encoder\u001b[39m\u001b[38;5;124m\"\u001b[39m]\u001b[38;5;241m.\u001b[39mvalues)\n\u001b[0;32m      2\u001b[0m \u001b[38;5;28mprint\u001b[39m(X\u001b[38;5;241m.\u001b[39mshape)\n",
      "File \u001b[1;32m~\\anaconda3\\Lib\\site-packages\\numpy\\core\\shape_base.py:449\u001b[0m, in \u001b[0;36mstack\u001b[1;34m(arrays, axis, out, dtype, casting)\u001b[0m\n\u001b[0;32m    447\u001b[0m shapes \u001b[38;5;241m=\u001b[39m {arr\u001b[38;5;241m.\u001b[39mshape \u001b[38;5;28;01mfor\u001b[39;00m arr \u001b[38;5;129;01min\u001b[39;00m arrays}\n\u001b[0;32m    448\u001b[0m \u001b[38;5;28;01mif\u001b[39;00m \u001b[38;5;28mlen\u001b[39m(shapes) \u001b[38;5;241m!=\u001b[39m \u001b[38;5;241m1\u001b[39m:\n\u001b[1;32m--> 449\u001b[0m     \u001b[38;5;28;01mraise\u001b[39;00m \u001b[38;5;167;01mValueError\u001b[39;00m(\u001b[38;5;124m'\u001b[39m\u001b[38;5;124mall input arrays must have the same shape\u001b[39m\u001b[38;5;124m'\u001b[39m)\n\u001b[0;32m    451\u001b[0m result_ndim \u001b[38;5;241m=\u001b[39m arrays[\u001b[38;5;241m0\u001b[39m]\u001b[38;5;241m.\u001b[39mndim \u001b[38;5;241m+\u001b[39m \u001b[38;5;241m1\u001b[39m\n\u001b[0;32m    452\u001b[0m axis \u001b[38;5;241m=\u001b[39m normalize_axis_index(axis, result_ndim)\n",
      "\u001b[1;31mValueError\u001b[0m: all input arrays must have the same shape"
     ]
    }
   ],
   "source": [
    "X = np.stack(df[\"label_encoder\"].values)\n",
    "print(X.shape)  # Expected shape: (7400, 128, 128, 1)"
   ]
  },
  {
   "cell_type": "code",
   "execution_count": null,
   "id": "c12b5634-228b-4a15-b745-786e77ee9b55",
   "metadata": {},
   "outputs": [],
   "source": [
    "X = X.reshape(-1, 128, 128, 1)  # (samples, height, width, channels)"
   ]
  },
  {
   "cell_type": "code",
   "execution_count": null,
   "id": "3adafbf7-4ea7-4ff3-b357-1597769ef8e5",
   "metadata": {},
   "outputs": [],
   "source": [
    "X.shape"
   ]
  },
  {
   "cell_type": "code",
   "execution_count": null,
   "id": "d9be176e-2726-40c6-88b1-57c8bfbd5361",
   "metadata": {},
   "outputs": [],
   "source": [
    "X[0]"
   ]
  },
  {
   "cell_type": "code",
   "execution_count": null,
   "id": "f8c5d3a9-0309-4618-955b-ac0743aec857",
   "metadata": {},
   "outputs": [],
   "source": [
    "# ## input split\n",
    "# X = np.expand_dims(X, -1)\n",
    "# X.shape"
   ]
  },
  {
   "cell_type": "code",
   "execution_count": null,
   "id": "c24ab6be-c6e5-4cc4-944e-0d57fd34ea96",
   "metadata": {},
   "outputs": [],
   "source": [
    "# X = X.reshape((X.shape[0], 1, X.shape[1]))  # Reshaping to (num_samples, 1, 13)\n"
   ]
  },
  {
   "cell_type": "code",
   "execution_count": null,
   "id": "22706c05-f53e-4736-9c0f-6c0494b186e4",
   "metadata": {},
   "outputs": [],
   "source": []
  },
  {
   "cell_type": "code",
   "execution_count": null,
   "id": "26c40378-60fd-48c5-8dd1-faa099b2ea32",
   "metadata": {},
   "outputs": [],
   "source": [
    "X.shape"
   ]
  },
  {
   "cell_type": "code",
   "execution_count": null,
   "id": "e9593506-9197-43ac-81d6-20f0612a9a8a",
   "metadata": {},
   "outputs": [],
   "source": [
    "# print(enc.categories_)"
   ]
  },
  {
   "cell_type": "code",
   "execution_count": null,
   "id": "328f3211-4d0e-46e7-ac73-9a2a97f78f99",
   "metadata": {},
   "outputs": [],
   "source": [
    "df[\"label\"].isnull().sum()"
   ]
  },
  {
   "cell_type": "code",
   "execution_count": null,
   "id": "f622ff06-0339-4c5e-9909-70a7ce61697b",
   "metadata": {
    "scrolled": true
   },
   "outputs": [],
   "source": [
    "from sklearn.preprocessing import OneHotEncoder\n",
    "enc = OneHotEncoder()\n",
    "y = enc.fit_transform(df[['label']])"
   ]
  },
  {
   "cell_type": "code",
   "execution_count": null,
   "id": "732362a6-5e7d-45dd-871b-e9762f44c7fd",
   "metadata": {},
   "outputs": [],
   "source": [
    "y.shape"
   ]
  },
  {
   "cell_type": "code",
   "execution_count": null,
   "id": "0fe7a199-5d39-4ec9-9d81-fd390b49d833",
   "metadata": {},
   "outputs": [],
   "source": [
    "y = y.toarray()\n",
    "y.shape\n",
    "y[:5]"
   ]
  },
  {
   "cell_type": "code",
   "execution_count": null,
   "id": "6db3f190-4dbb-4be9-bf61-0b780acebb1f",
   "metadata": {},
   "outputs": [],
   "source": [
    "y.shape"
   ]
  },
  {
   "cell_type": "code",
   "execution_count": null,
   "id": "d1ee47db-eb1f-46c5-901b-f3a761defca2",
   "metadata": {},
   "outputs": [],
   "source": [
    "from sklearn.model_selection import train_test_split\n",
    "\n",
    "X_train, X_test, y_train, y_test = train_test_split(X, y, test_size=0.20, random_state=42)"
   ]
  },
  {
   "cell_type": "code",
   "execution_count": 175,
   "id": "17e12b24-7e5e-4907-832a-8d0f3f3ffa22",
   "metadata": {},
   "outputs": [
    {
     "name": "stdout",
     "output_type": "stream",
     "text": [
      "(5920, 128, 128, 1) -- (5920, 7)\n"
     ]
    }
   ],
   "source": [
    "print(X_train.shape, \"--\", y_train.shape)"
   ]
  },
  {
   "cell_type": "code",
   "execution_count": null,
   "id": "12bf4599-cd2e-4b8f-8aee-7a36422b64bb",
   "metadata": {},
   "outputs": [],
   "source": [
    "# y_train.shape"
   ]
  },
  {
   "cell_type": "code",
   "execution_count": null,
   "id": "47a02224-8867-4c22-8664-0c1f7d70f690",
   "metadata": {
    "scrolled": true
   },
   "outputs": [],
   "source": [
    "from tensorflow.keras.models import Sequential\n",
    "from tensorflow.keras.layers import Conv2D, MaxPooling2D, Flatten, Dense, Dropout, BatchNormalization\n",
    "\n",
    "model = Sequential([\n",
    "    Conv2D(32, (3,3), activation='relu', input_shape=(128,128,1)),\n",
    "    BatchNormalization(),\n",
    "    MaxPooling2D((2,2)),\n",
    "\n",
    "    Conv2D(64, (3,3), activation='relu'),\n",
    "    BatchNormalization(),\n",
    "    MaxPooling2D((2,2)),\n",
    "\n",
    "    Conv2D(128, (3,3), activation='relu'),\n",
    "    BatchNormalization(),\n",
    "    MaxPooling2D((2,2)),\n",
    "\n",
    "    Flatten(),\n",
    "    Dense(256, activation='relu'),\n",
    "    Dropout(0.3),\n",
    "    Dense(128, activation='relu'),\n",
    "    Dropout(0.2),\n",
    "    Dense(7, activation='softmax')  # 7 emotion classes\n",
    "])\n",
    "\n",
    "model.compile(loss='categorical_crossentropy', optimizer='adam', metrics=['accuracy'])\n",
    "model.summary()"
   ]
  },
  {
   "cell_type": "code",
   "execution_count": null,
   "id": "c083d3e6-556e-4c05-93bb-a55ab8326ff4",
   "metadata": {
    "scrolled": true
   },
   "outputs": [],
   "source": [
    "history = model.fit(X_train, y_train, validation_split=0.2, epochs=30, batch_size=32)"
   ]
  },
  {
   "cell_type": "code",
   "execution_count": null,
   "id": "5eb2aa8a-e861-46bb-b593-e7f61148b610",
   "metadata": {},
   "outputs": [],
   "source": [
    "epochs = list(range(30))\n",
    "acc = history.history['accuracy']\n",
    "val_acc = history.history['val_accuracy']\n",
    "\n",
    "plt.plot(epochs, acc, label='train accuracy')\n",
    "plt.plot(epochs, val_acc, label='val accuracy')\n",
    "plt.xlabel('epochs')\n",
    "plt.ylabel('accuracy')\n",
    "plt.legend()\n",
    "plt.show()"
   ]
  },
  {
   "cell_type": "code",
   "execution_count": null,
   "id": "c5d436ea-142e-4138-af62-4591b7ae301f",
   "metadata": {},
   "outputs": [],
   "source": [
    "y_pred = model.predict(X_test)"
   ]
  },
  {
   "cell_type": "code",
   "execution_count": null,
   "id": "584c4ad3-0d60-4bf3-8283-6d1bd1616db4",
   "metadata": {},
   "outputs": [],
   "source": [
    "from sklearn.metrics import classification_report, confusion_matrix\n",
    "\n",
    "# Convert one-hot encoded arrays to class indices\n",
    "y_test_labels = np.argmax(y_test, axis=1)\n",
    "y_pred_labels = np.argmax(y_pred, axis=1)\n",
    "\n",
    "print(classification_report(y_test_labels, y_pred_labels))\n"
   ]
  },
  {
   "cell_type": "code",
   "execution_count": null,
   "id": "b282a94c-db70-4920-8d3b-abd2da6a11d9",
   "metadata": {},
   "outputs": [],
   "source": [
    "(confusion_matrix(y_test_labels, y_pred_labels))"
   ]
  },
  {
   "cell_type": "code",
   "execution_count": null,
   "id": "d751a5be-7b86-425f-a8a1-cf771b720037",
   "metadata": {},
   "outputs": [],
   "source": []
  },
  {
   "cell_type": "code",
   "execution_count": null,
   "id": "6ad9cc0c-76da-488c-b247-10965008ddff",
   "metadata": {},
   "outputs": [],
   "source": []
  },
  {
   "cell_type": "code",
   "execution_count": null,
   "id": "ba300a6e-8b9f-497b-93e1-be9dbd650955",
   "metadata": {},
   "outputs": [],
   "source": [
    "cnn_predictions = model.predict(X_test)\n",
    "clf2_predictions = clf2.predict(X_test)\n",
    "combined_predictions = (cnn_predictions + clf2_predictions) / 2.0  # simple averaging\n",
    "final_predictions = np.argmax(combined_predictions, axis=1)\n"
   ]
  },
  {
   "cell_type": "code",
   "execution_count": null,
   "id": "320501e4-eb1e-4e3d-80e3-8f411099b413",
   "metadata": {
    "scrolled": true
   },
   "outputs": [],
   "source": [
    "audio_file = 'SEM/Savee/JK_d11.wav'\n",
    "mfcc = convert_into_vector(audio_file)  # Ensure it returns 2D (40, T)\n",
    "\n",
    "input_data = resize_array(mfcc, target_shape=(128, 128))\n",
    "\n",
    "# Reshape the feature vector to (batch_size, height, width, channels)\n",
    "input_data = input_data.reshape(-1, 128, 128, 1)\n",
    "\n",
    "# CNN Model Prediction\n",
    "# predictions = model.predict(input_data)\n",
    "# predicted_class = np.argmax(predictions, axis=1)[0]\n",
    "\n",
    "class_labels = {0: \"angry\", 1: \"disgust\", 2: \"fear\", 3: \"happy\", 4: \"neutral\", 5: \"sad\", 6: \"surprise\"}\n",
    "print(\"Predicted emotion:\", class_labels.get(predicted_class, \"Unknown\"))\n"
   ]
  },
  {
   "cell_type": "code",
   "execution_count": null,
   "id": "f5c68de3-6f3f-40f8-ab93-140a5a0e3bc7",
   "metadata": {
    "scrolled": true
   },
   "outputs": [],
   "source": [
    "import pickle"
   ]
  },
  {
   "cell_type": "code",
   "execution_count": null,
   "id": "0d18a902-bb97-4a20-a2af-2f409b9e05f8",
   "metadata": {},
   "outputs": [],
   "source": [
    "# with open('SED-1(67).pkl','wb') as f:\n",
    "#     pickle.dump(model,f)"
   ]
  },
  {
   "cell_type": "code",
   "execution_count": null,
   "id": "1cf9f7bf-32f3-42e7-ace8-7b8d0e744a01",
   "metadata": {},
   "outputs": [],
   "source": [
    "with open('SED-1(67).pkl', 'rb') as f:\n",
    "    clf2 = pickle.load(f)"
   ]
  },
  {
   "cell_type": "code",
   "execution_count": null,
   "id": "607d2b96-8cff-410f-a992-78f34b9813ab",
   "metadata": {},
   "outputs": [],
   "source": [
    "y_pred_clf = clf2.predict(X_test)\n",
    "y_test_labels_ = np.argmax(y_test, axis=1)\n",
    "y_pred_labels_ = np.argmax(y_pred_clf, axis=1)\n",
    "\n",
    "print(classification_report(y_test_labels_, y_pred_labels_))"
   ]
  },
  {
   "cell_type": "code",
   "execution_count": null,
   "id": "02e92cfe-5f41-4039-9991-250cd981a67b",
   "metadata": {},
   "outputs": [],
   "source": [
    "\n",
    "\n",
    "audio_file = 'SEM/Crema/1075_ITS_HAP_XX.wav'\n",
    "mfcc = convert_into_vector(audio_file)\n",
    "print(\"MFCC shape:\", mfcc.shape)  # Expected output: (60,)\n",
    "\n",
    "# Reshape the feature vector to add batch and channel dimensions (batch_size, timesteps, features)\n",
    "input_data = mfcc.reshape(1, 40, 1)\n",
    "\n",
    "# Predict with your trained model (ensure your model is loaded/trained appropriately)\n",
    "predictions = clf2.predict(input_data)\n",
    "predicted_class = np.argmax(predictions, axis=1)[0]\n",
    "#Map the predicted class index to a human-readable label\n",
    "class_labels = {0: \"angry\", 1: \"disgust\", 2: \"fear\", 3: \"happy\", 4: \"neutral\", 5: \"sad\",6:\"surprise\"}\n",
    "print(\"Predicted emotion:\", class_labels.get(predicted_class, \"Unknown\"))"
   ]
  }
 ],
 "metadata": {
  "kernelspec": {
   "display_name": "Python 3 (ipykernel)",
   "language": "python",
   "name": "python3"
  },
  "language_info": {
   "codemirror_mode": {
    "name": "ipython",
    "version": 3
   },
   "file_extension": ".py",
   "mimetype": "text/x-python",
   "name": "python",
   "nbconvert_exporter": "python",
   "pygments_lexer": "ipython3",
   "version": "3.11.7"
  }
 },
 "nbformat": 4,
 "nbformat_minor": 5
}
